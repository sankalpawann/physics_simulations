{
  "nbformat": 4,
  "nbformat_minor": 0,
  "metadata": {
    "colab": {
      "provenance": [],
      "gpuType": "T4",
      "authorship_tag": "ABX9TyNKUzXtk/nnAmaE0LkaHggW",
      "include_colab_link": true
    },
    "kernelspec": {
      "name": "python3",
      "display_name": "Python 3"
    },
    "language_info": {
      "name": "python"
    },
    "accelerator": "GPU"
  },
  "cells": [
    {
      "cell_type": "markdown",
      "metadata": {
        "id": "view-in-github",
        "colab_type": "text"
      },
      "source": [
        "<a href=\"https://colab.research.google.com/github/sankalpawann/physics_simulations/blob/main/Refraction_and_Snell's_Law_Simulation.ipynb\" target=\"_parent\"><img src=\"https://colab.research.google.com/assets/colab-badge.svg\" alt=\"Open In Colab\"/></a>"
      ]
    },
    {
      "cell_type": "markdown",
      "source": [
        "# **Refraction and Snell's Law Simulation**\n",
        "\n",
        "This notebook demonstrates the principles of light refraction using Snell's Law. We'll create an animated simulation showing a light ray passing from one medium to another.\n",
        "\n",
        "## **Theory**\n",
        "\n",
        "### **Snell's Law**\n",
        "\n",
        "Snell's Law describes how light bends when it passes from one medium to another. The law is given by:\n",
        "\n",
        "\\[ n_1 \\sin(\\theta_1) = n_2 \\sin(\\theta_2) \\]\n",
        "\n",
        "where:\n",
        "- \\( n_1 \\) and \\( n_2 \\) are the refractive indices of the first and second mediums, respectively.\n",
        "- \\( \\theta_1 \\) is the angle of incidence.\n",
        "- \\( \\theta_2 \\) is the angle of refraction.\n",
        "\n",
        "### **Refractive Index**\n",
        "\n",
        "The refractive index of a medium is a measure of how much the speed of light is reduced inside the medium. For example, the refractive index of air is approximately 1, while that of glass is around 1.5.\n",
        "\n",
        "### **Angles of Incidence and Refraction**\n",
        "\n",
        "- **Angle of Incidence (\\( \\theta_1 \\))**: The angle between the incident ray and the normal (perpendicular) to the surface at the point of incidence.\n",
        "- **Angle of Refraction (\\( \\theta_2 \\))**: The angle between the refracted ray and the normal to the surface at the point of refraction.\n",
        "\n",
        "## **Simulation**\n",
        "\n",
        "We'll use Python to simulate the refraction of light at the interface between two media and create an animation to visualize the process.\n",
        "\n",
        "### **Import Libraries**\n",
        "\n",
        "First, let's import the necessary libraries.\n"
      ],
      "metadata": {
        "id": "kHmlHJyHDkhN"
      }
    },
    {
      "cell_type": "code",
      "source": [
        "import numpy as np\n",
        "import matplotlib.pyplot as plt\n",
        "import imageio\n",
        "from matplotlib.animation import FuncAnimation\n",
        "import torch\n",
        "from matplotlib.patches import Arc, FancyBboxPatch"
      ],
      "metadata": {
        "id": "VVz4ovE4Dq0H"
      },
      "execution_count": 1,
      "outputs": []
    },
    {
      "cell_type": "code",
      "source": [
        "# Ensure that PyTorch uses GPU if available\n",
        "print(torch.cuda.is_available())\n",
        "device = torch.device('cuda' if torch.cuda.is_available() else 'cpu')"
      ],
      "metadata": {
        "colab": {
          "base_uri": "https://localhost:8080/"
        },
        "id": "R4kQ9Nia2n_z",
        "outputId": "765371ee-4ede-44e2-cbb8-2a359dcc7fe4"
      },
      "execution_count": 2,
      "outputs": [
        {
          "output_type": "stream",
          "name": "stdout",
          "text": [
            "False\n"
          ]
        }
      ]
    },
    {
      "cell_type": "markdown",
      "source": [
        "### **Snell's Law Function**\n",
        "\n",
        "Next, we define a function to compute the angle of refraction using Snell's Law.\n"
      ],
      "metadata": {
        "id": "8fn8bJ3QDupq"
      }
    },
    {
      "cell_type": "code",
      "source": [
        "# Snell's Law using PyTorch tensors\n",
        "def snell_law(n1, theta1, n2):\n",
        "    return torch.asin((n1 / n2) * torch.sin(theta1))\n"
      ],
      "metadata": {
        "id": "N1EHmmzKDv46"
      },
      "execution_count": 3,
      "outputs": []
    },
    {
      "cell_type": "markdown",
      "source": [
        "### **Simulation Parameters**\n",
        "\n",
        "We set the refractive indices of the two media and generate a range of incident angles from 0 to 90 degrees.\n"
      ],
      "metadata": {
        "id": "V01udzzYDzkb"
      }
    },
    {
      "cell_type": "code",
      "source": [
        "# Simulation parameters\n",
        "n1 = 1.0  # Refractive index of the first medium (e.g., air)\n",
        "n2 = 1.5  # Refractive index of the second medium (e.g., glass)\n",
        "incident_angles = torch.linspace(0, np.pi / 2, 90).to(device)  # Incident angles from 0 to 90 degrees\n",
        "\n",
        "# Precompute refracted angles\n",
        "refracted_angles = snell_law(n1, incident_angles, n2)\n",
        "# print (incident_angles*(180/np.pi))\n",
        "# print (refracted_angles*(180/np.pi))"
      ],
      "metadata": {
        "id": "azmyJwscDzM-"
      },
      "execution_count": 4,
      "outputs": []
    },
    {
      "cell_type": "markdown",
      "source": [
        "### **Create the Animation**\n",
        "\n",
        "We create a figure and define a function to update the frame of the animation. This function draws the incident ray, the normal line, and the refracted ray for each frame.\n"
      ],
      "metadata": {
        "id": "tTITsI9iD31E"
      }
    },
    {
      "cell_type": "code",
      "source": [
        "# Create the figure and axis\n",
        "fig, ax = plt.subplots()\n",
        "ax.set_xlim(-1.1, 1.1)\n",
        "ax.set_ylim(-1, 1.1)\n",
        "ax.set_aspect('equal')\n",
        "ax.set_title(\"Refraction and Snell's Law\")\n",
        "ax.axis(False)\n",
        "# Media interface line\n",
        "interface_line, = ax.plot([-1, 1.1], [0, 0], 'k-', lw=2)\n",
        "\n",
        "# Normal line\n",
        "normal_line, = ax.plot([0, 0], [-0.5, 0.5], 'k--', lw=1)\n",
        "\n",
        "# Incident wave arrow\n",
        "incident_wave = ax.annotate(\"\", xy=(0, 0), xytext=(0, 0), arrowprops=dict(facecolor='blue', edgecolor='blue', arrowstyle='->', lw=2))\n",
        "\n",
        "# Refracted wave arrow\n",
        "refracted_wave = ax.annotate(\"\", xy=(0, 0), xytext=(0, 0), arrowprops=dict(facecolor='red', edgecolor='red', arrowstyle='<-', lw=2))\n",
        "\n",
        "\n",
        "arrow_length = 0.8\n",
        "\n",
        "# Text labels\n",
        "incident_text = ax.text(-1.1, 0.9, \"\", color='blue')\n",
        "refracted_text = ax.text(0.05, -0.9, \"\", color='red')\n",
        "n1_text = ax.text(0.7, 0.05, f\"n1: {n1}\", color='black')\n",
        "n2_text = ax.text(0.7, -0.1, f\"n2: {n2}\", color='black')\n",
        "# Add equation in a box\n",
        "eq_text = ax.text(-1.1, -0.6, \"      Snell's Law\\n $n_1 \\sin(\\\\theta_1) = n_2 \\sin(\\\\theta_2)$\", fontsize=12, bbox=dict(facecolor='white', edgecolor='black'))\n",
        "\n",
        "\n",
        "\n",
        "# Highlighted arcs for angles\n",
        "incident_arc = Arc((0, 0), 0.4, 0.4, angle =90, theta1=0, theta2=0, color='blue', lw=2)\n",
        "refracted_arc = Arc((0, 0), 0.4, 0.4, angle =270, theta1=0, theta2=0, color='red', lw=2)\n",
        "ax.add_patch(incident_arc)\n",
        "ax.add_patch(refracted_arc)\n",
        "\n",
        "# Function to update the frame\n",
        "def update(frame):\n",
        "    theta1 = incident_angles[frame].item()\n",
        "    theta2 = refracted_angles[frame].item()\n",
        "\n",
        "    incident_end_x = -arrow_length*np.sin(theta1)\n",
        "    incident_end_y = arrow_length*np.cos(theta1)\n",
        "    incident_wave.set_position((incident_end_x, incident_end_y))\n",
        "    incident_wave.xy = (0, 0)\n",
        "\n",
        "    if not np.isnan(theta2):\n",
        "        refracted_end_x = arrow_length*np.sin(theta2)\n",
        "        refracted_end_y = -arrow_length*np.cos(theta2)\n",
        "        refracted_wave.set_position((refracted_end_x, refracted_end_y))\n",
        "        refracted_wave.xy = (0, 0)\n",
        "        refracted_text.set_text(f\"Refracted angle (θ2): {np.degrees(theta2):.2f}°\")\n",
        "        refracted_arc.theta1 = 0\n",
        "        refracted_arc.theta2 = np.degrees(theta2)\n",
        "    else:\n",
        "        refracted_wave.set_position((0, 0))\n",
        "        refracted_wave.xy = (0, 0)\n",
        "        refracted_text.set_text(\"Total internal reflection\")\n",
        "\n",
        "    incident_text.set_text(f\"Incident angle (θ1): {np.degrees(theta1):.2f}°\")\n",
        "    incident_arc.theta1 = 0\n",
        "    incident_arc.theta2 = np.degrees(theta1)\n",
        "# Create the animation\n",
        "ani = FuncAnimation(fig, update, frames=len(incident_angles), repeat=False)\n",
        "\n",
        "# Save the animation as a GIF\n",
        "ani.save('refraction_simulation_pytorch.gif', writer='pillow')\n",
        "\n",
        "plt.show()\n"
      ],
      "metadata": {
        "colab": {
          "base_uri": "https://localhost:8080/",
          "height": 428
        },
        "id": "53_TjMhsD7a6",
        "outputId": "f542033e-ec1a-46d4-d86b-33c5f3469949"
      },
      "execution_count": 5,
      "outputs": [
        {
          "output_type": "display_data",
          "data": {
            "text/plain": [
              "<Figure size 640x480 with 1 Axes>"
            ],
            "image/png": "[encoded data removed]"
          },
          "metadata": {}
        }
      ]
    }
  ]
}